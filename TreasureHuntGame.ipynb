{
 "cells": [
  {
   "cell_type": "markdown",
   "metadata": {},
   "source": [
    "# Treasure Hunt Game Notebook\n",
    "\n",
    "## Read and Review Your Starter Code\n",
    "The theme of this project is a popular treasure hunt game in which the player needs to find the treasure before the pirate does. While you will not be developing the entire game, you will write the part of the game that represents the intelligent agent, which is a pirate in this case. The pirate will try to find the optimal path to the treasure using deep Q-learning. \n",
    "\n",
    "You have been provided with two Python classes and this notebook to help you with this assignment. The first class, TreasureMaze.py, represents the environment, which includes a maze object defined as a matrix. The second class, GameExperience.py, stores the episodes – that is, all the states that come in between the initial state and the terminal state. This is later used by the agent for learning by experience, called \"exploration\". This notebook shows how to play a game. Your task is to complete the deep Q-learning implementation for which a skeleton implementation has been provided. The code blocs you will need to complete has #TODO as a header.\n",
    "\n",
    "First, read and review the next few code and instruction blocks to understand the code that you have been given."
   ]
  },
  {
   "cell_type": "code",
   "execution_count": 1,
   "metadata": {},
   "outputs": [
    {
     "name": "stderr",
     "output_type": "stream",
     "text": [
      "Using TensorFlow backend.\n"
     ]
    }
   ],
   "source": [
    "from __future__ import print_function\n",
    "import os, sys, time, datetime, json, random\n",
    "import numpy as np\n",
    "from keras.models import Sequential\n",
    "from keras.layers.core import Dense, Activation\n",
    "from keras.optimizers import SGD , Adam, RMSprop\n",
    "#from keras.layers import PReLU\n",
    "from keras.layers.advanced_activations import PReLU\n",
    "import matplotlib.pyplot as plt\n",
    "from TreasureMaze import TreasureMaze\n",
    "from GameExperience import GameExperience\n",
    "%matplotlib inline"
   ]
  },
  {
   "cell_type": "markdown",
   "metadata": {},
   "source": [
    "The following code block contains an 8x8 matrix that will be used as a maze object:"
   ]
  },
  {
   "cell_type": "code",
   "execution_count": 2,
   "metadata": {},
   "outputs": [],
   "source": [
    "maze = np.array([\n",
    "    [ 1.,  0.,  1.,  1.,  1.,  1.,  1.,  1.],\n",
    "    [ 1.,  0.,  1.,  1.,  1.,  0.,  1.,  1.],\n",
    "    [ 1.,  1.,  1.,  1.,  0.,  1.,  0.,  1.],\n",
    "    [ 1.,  1.,  1.,  0.,  1.,  1.,  1.,  1.],\n",
    "    [ 1.,  1.,  0.,  1.,  1.,  1.,  1.,  1.],\n",
    "    [ 1.,  1.,  1.,  0.,  1.,  0.,  0.,  0.],\n",
    "    [ 1.,  1.,  1.,  0.,  1.,  1.,  1.,  1.],\n",
    "    [ 1.,  1.,  1.,  1.,  0.,  1.,  1.,  1.]\n",
    "])"
   ]
  },
  {
   "cell_type": "markdown",
   "metadata": {},
   "source": [
    "This helper function allows a visual representation of the maze object:"
   ]
  },
  {
   "cell_type": "code",
   "execution_count": 3,
   "metadata": {},
   "outputs": [],
   "source": [
    "def show(qmaze):\n",
    "    plt.grid('on')\n",
    "    nrows, ncols = qmaze.maze.shape\n",
    "    ax = plt.gca()\n",
    "    ax.set_xticks(np.arange(0.5, nrows, 1))\n",
    "    ax.set_yticks(np.arange(0.5, ncols, 1))\n",
    "    ax.set_xticklabels([])\n",
    "    ax.set_yticklabels([])\n",
    "    canvas = np.copy(qmaze.maze)\n",
    "    for row,col in qmaze.visited:\n",
    "        canvas[row,col] = 0.6\n",
    "    pirate_row, pirate_col, _ = qmaze.state\n",
    "    canvas[pirate_row, pirate_col] = 0.3   # pirate cell\n",
    "    canvas[nrows-1, ncols-1] = 0.9 # treasure cell\n",
    "    img = plt.imshow(canvas, interpolation='none', cmap='gray')\n",
    "    return img"
   ]
  },
  {
   "cell_type": "markdown",
   "metadata": {},
   "source": [
    "The pirate agent can move in four directions: left, right, up, and down. \n",
    "\n",
    "While the agent primarily learns by experience through exploitation, often, the agent can choose to explore the environment to find previously undiscovered paths. This is called \"exploration\" and is defined by epsilon. This value is typically a lower value such as 0.1, which means for every ten attempts, the agent will attempt to learn by experience nine times and will randomly explore a new path one time. You are encouraged to try various values for the exploration factor and see how the algorithm performs."
   ]
  },
  {
   "cell_type": "code",
   "execution_count": 4,
   "metadata": {},
   "outputs": [],
   "source": [
    "LEFT = 0\n",
    "UP = 1\n",
    "RIGHT = 2\n",
    "DOWN = 3\n",
    "\n",
    "\n",
    "# Exploration factor\n",
    "epsilon = 0.15\n",
    "\n",
    "# Actions dictionary\n",
    "actions_dict = {\n",
    "    LEFT: 'left',\n",
    "    UP: 'up',\n",
    "    RIGHT: 'right',\n",
    "    DOWN: 'down',\n",
    "}\n",
    "\n",
    "num_actions = len(actions_dict)\n"
   ]
  },
  {
   "cell_type": "markdown",
   "metadata": {},
   "source": [
    "The sample code block and output below show creating a maze object and performing one action (DOWN), which returns the reward. The resulting updated environment is visualized."
   ]
  },
  {
   "cell_type": "code",
   "execution_count": 5,
   "metadata": {},
   "outputs": [
    {
     "name": "stdout",
     "output_type": "stream",
     "text": [
      "reward= -0.04\n"
     ]
    },
    {
     "data": {
      "text/plain": [
       "<matplotlib.image.AxesImage at 0x1d2f6dc9d48>"
      ]
     },
     "execution_count": 5,
     "metadata": {},
     "output_type": "execute_result"
    },
    {
     "data": {
      "image/png": "[encoded data removed]",
      "text/plain": [
       "<Figure size 432x288 with 1 Axes>"
      ]
     },
     "metadata": {
      "needs_background": "light"
     },
     "output_type": "display_data"
    }
   ],
   "source": [
    "qmaze = TreasureMaze(maze)\n",
    "canvas, reward, game_over = qmaze.act(DOWN)\n",
    "print(\"reward=\", reward)\n",
    "show(qmaze)"
   ]
  },
  {
   "cell_type": "markdown",
   "metadata": {},
   "source": [
    "This function simulates a full game based on the provided trained model. The other parameters include the TreasureMaze object and the starting position of the pirate."
   ]
  },
  {
   "cell_type": "code",
   "execution_count": 6,
   "metadata": {},
   "outputs": [],
   "source": [
    "def play_game(model, qmaze, pirate_cell):\n",
    "    qmaze.reset(pirate_cell)\n",
    "    envstate = qmaze.observe()\n",
    "    while True:\n",
    "        prev_envstate = envstate\n",
    "        # get next action\n",
    "        q = model.predict(prev_envstate)\n",
    "        action = np.argmax(q[0])\n",
    "\n",
    "        # apply action, get rewards and new state\n",
    "        envstate, reward, game_status = qmaze.act(action)\n",
    "        if game_status == 'win':\n",
    "            return True\n",
    "        elif game_status == 'lose':\n",
    "            return False"
   ]
  },
  {
   "cell_type": "markdown",
   "metadata": {},
   "source": [
    "This function helps you to determine whether the pirate can win any game at all. If your maze is not well designed, the pirate may not win any game at all. In this case, your training would not yield any result. The provided maze in this notebook ensures that there is a path to win and you can run this method to check."
   ]
  },
  {
   "cell_type": "code",
   "execution_count": 7,
   "metadata": {},
   "outputs": [],
   "source": [
    "def completion_check(model, qmaze):\n",
    "    for cell in qmaze.free_cells:\n",
    "        if not qmaze.valid_actions(cell):\n",
    "            return False\n",
    "        if not play_game(model, qmaze, cell):\n",
    "            return False\n",
    "    return True"
   ]
  },
  {
   "cell_type": "markdown",
   "metadata": {},
   "source": [
    "The code you have been given in this block will build the neural network model. Review the code and note the number of layers, as well as the activation, optimizer, and loss functions that are used to train the model."
   ]
  },
  {
   "cell_type": "code",
   "execution_count": 8,
   "metadata": {},
   "outputs": [],
   "source": [
    "def build_model(maze):\n",
    "    model = Sequential()\n",
    "    model.add(Dense(maze.size, input_shape=(maze.size,)))\n",
    "    model.add(PReLU())\n",
    "    model.add(Dense(maze.size))\n",
    "    model.add(PReLU())\n",
    "    model.add(Dense(num_actions))\n",
    "    model.compile(optimizer='adam', loss='mse')\n",
    "    return model"
   ]
  },
  {
   "cell_type": "markdown",
   "metadata": {},
   "source": [
    "# #TODO: Complete the Q-Training Algorithm Code Block\n",
    "\n",
    "This is your deep Q-learning implementation. The goal of your deep Q-learning implementation is to find the best possible navigation sequence that results in reaching the treasure cell while maximizing the reward. In your implementation, you need to determine the optimal number of epochs to achieve a 100% win rate.\n",
    "\n",
    "You will need to complete the section starting with #pseudocode. The pseudocode has been included for you."
   ]
  },
  {
   "cell_type": "code",
   "execution_count": 9,
   "metadata": {},
   "outputs": [],
   "source": [
    "def qtrain(model, maze, **opt):\n",
    "\n",
    "    # exploration factor\n",
    "    global epsilon \n",
    "\n",
    "    # number of epochs\n",
    "    n_epoch = opt.get('n_epoch', 15000)\n",
    "\n",
    "    # maximum memory to store episodes\n",
    "    max_memory = opt.get('max_memory', 1000)\n",
    "\n",
    "    # maximum data size for training\n",
    "    data_size = opt.get('data_size', 50)\n",
    "\n",
    "    # start time\n",
    "    start_time = datetime.datetime.now()\n",
    "\n",
    "    # Construct environment/game from numpy array: maze (see above)\n",
    "    qmaze = TreasureMaze(maze)\n",
    "\n",
    "    # Initialize experience replay object\n",
    "    experience = GameExperience(model, max_memory=max_memory)\n",
    "    \n",
    "    win_history = []   # history of win/lose game\n",
    "    hsize = qmaze.maze.size//2   # history window size\n",
    "    win_rate = 0.0\n",
    "        \n",
    "    # For each epoch\n",
    "    for epoch in range(n_epoch):\n",
    "        # Agent_cell = randomly select a free cell\n",
    "        agent_cell = random.choice(qmaze.free_cells)\n",
    "        # Reset the maze with agent set to above position\n",
    "        qmaze.reset(agent_cell)\n",
    "        # envstate = Environment.current_state\n",
    "        envstate = qmaze.observe()\n",
    "        loss = 0\n",
    "        n_episodes = 0\n",
    "        \n",
    "        # While state is not game over:\n",
    "        while qmaze.game_status() == 'not_over':\n",
    "            previous_envstate = envstate\n",
    "            # Action = randomly choose action (left, right, up, down) either by exploration or by exploitation\n",
    "            if np.random.uniform(0,1) < epsilon:\n",
    "                action = random.choice(qmaze.valid_actions())\n",
    "            else:\n",
    "                action = np.argmax(experience.predict(envstate))\n",
    "            \n",
    "            # envstate, reward, game_status = qmaze.act(action)\n",
    "            envstate, reward, game_status = qmaze.act(action)\n",
    "            \n",
    "            # Store episode in Experience replay object\n",
    "            episode = [previous_envstate, action, reward, envstate, game_status]\n",
    "            experience.remember(episode)   \n",
    "            # Each move is an episode\n",
    "            n_episodes += 1\n",
    "            \n",
    "            # Train neural network model and evaluate loss\n",
    "            inputs,targets = experience.get_data()            \n",
    "            history = model.fit(inputs, targets, epochs=8, batch_size=24, verbose=0)\n",
    "            loss = model.evaluate(inputs, targets, verbose=0)\n",
    "            \n",
    "            # Game completion check\n",
    "            if qmaze.game_status() == 'win':\n",
    "                win_history.append(1)\n",
    "                win_rate = sum(win_history) / len(win_history)\n",
    "                break\n",
    "            elif qmaze.game_status() == 'lose':\n",
    "                win_history.append(0)\n",
    "                win_rate = sum(win_history) / len(win_history)\n",
    "                break\n",
    "            # else the game is not over\n",
    "        \n",
    "        \n",
    "    #Print the epoch, loss, episodes, win count, and win rate for each epoch\n",
    "        dt = datetime.datetime.now() - start_time\n",
    "        t = format_time(dt.total_seconds())\n",
    "        template = \"Epoch: {:03d}/{:d} | Loss: {:.4f} | Episodes: {:d} | Win count: {:d} | Win rate: {:.3f} | time: {}\"\n",
    "        print(template.format(epoch+1, n_epoch, loss, n_episodes, sum(win_history), win_rate, t))\n",
    "        # We simply check if training has exhausted all free cells and if in all\n",
    "        # cases the agent won.\n",
    "        if win_rate > 0.9 : epsilon = 0.05\n",
    "        if sum(win_history[-hsize:]) == hsize and completion_check(model, qmaze):\n",
    "            print(\"Reached 100%% win rate at epoch: %d\" % (epoch,))\n",
    "            break\n",
    "\n",
    "    \n",
    "    # Determine the total time for training\n",
    "    dt = datetime.datetime.now() - start_time\n",
    "    seconds = dt.total_seconds()\n",
    "    t = format_time(seconds)\n",
    "\n",
    "    print(\"n_epoch: %d, max_mem: %d, data: %d, time: %s\" % (epoch, max_memory, data_size, t))\n",
    "    return seconds\n",
    "\n",
    "# This is a small utility for printing readable time strings:\n",
    "def format_time(seconds):\n",
    "    if seconds < 400:\n",
    "        s = float(seconds)\n",
    "        return \"%.1f seconds\" % (s,)\n",
    "    elif seconds < 4000:\n",
    "        m = seconds / 60.0\n",
    "        return \"%.2f minutes\" % (m,)\n",
    "    else:\n",
    "        h = seconds / 3600.0\n",
    "        return \"%.2f hours\" % (h,)"
   ]
  },
  {
   "cell_type": "markdown",
   "metadata": {},
   "source": [
    "## Test Your Model\n",
    "\n",
    "Now we will start testing the deep Q-learning implementation. To begin, select **Cell**, then **Run All** from the menu bar. This will run your notebook. As it runs, you should see output begin to appear beneath the next few cells. The code below creates an instance of TreasureMaze."
   ]
  },
  {
   "cell_type": "code",
   "execution_count": 10,
   "metadata": {},
   "outputs": [
    {
     "data": {
      "text/plain": [
       "<matplotlib.image.AxesImage at 0x1d2f8183ac8>"
      ]
     },
     "execution_count": 10,
     "metadata": {},
     "output_type": "execute_result"
    },
    {
     "data": {
      "image/png": "[encoded data removed]",
      "text/plain": [
       "<Figure size 432x288 with 1 Axes>"
      ]
     },
     "metadata": {
      "needs_background": "light"
     },
     "output_type": "display_data"
    }
   ],
   "source": [
    "qmaze = TreasureMaze(maze)\n",
    "show(qmaze)"
   ]
  },
  {
   "cell_type": "markdown",
   "metadata": {},
   "source": [
    "In the next code block, you will build your model and train it using deep Q-learning. Note: This step takes several minutes to fully run."
   ]
  },
  {
   "cell_type": "code",
   "execution_count": 11,
   "metadata": {
    "scrolled": true
   },
   "outputs": [
    {
     "name": "stdout",
     "output_type": "stream",
     "text": [
      "Epoch: 001/15000 | Loss: 0.0229 | Episodes: 18 | Win count: 1 | Win rate: 1.000 | time: 2.0 seconds\n",
      "Epoch: 002/15000 | Loss: 0.0006 | Episodes: 141 | Win count: 1 | Win rate: 0.500 | time: 6.0 seconds\n",
      "Epoch: 003/15000 | Loss: 0.0001 | Episodes: 134 | Win count: 1 | Win rate: 0.333 | time: 9.8 seconds\n",
      "Epoch: 004/15000 | Loss: 0.0007 | Episodes: 130 | Win count: 1 | Win rate: 0.250 | time: 13.5 seconds\n",
      "Epoch: 005/15000 | Loss: 0.0006 | Episodes: 57 | Win count: 2 | Win rate: 0.400 | time: 15.1 seconds\n",
      "Epoch: 006/15000 | Loss: 0.0036 | Episodes: 132 | Win count: 2 | Win rate: 0.333 | time: 19.0 seconds\n",
      "Epoch: 007/15000 | Loss: 0.0001 | Episodes: 137 | Win count: 2 | Win rate: 0.286 | time: 22.9 seconds\n",
      "Epoch: 008/15000 | Loss: 0.0022 | Episodes: 138 | Win count: 2 | Win rate: 0.250 | time: 26.8 seconds\n",
      "Epoch: 009/15000 | Loss: 0.0008 | Episodes: 141 | Win count: 2 | Win rate: 0.222 | time: 30.7 seconds\n",
      "Epoch: 010/15000 | Loss: 0.0009 | Episodes: 1 | Win count: 3 | Win rate: 0.300 | time: 30.8 seconds\n",
      "Epoch: 011/15000 | Loss: 0.0003 | Episodes: 143 | Win count: 3 | Win rate: 0.273 | time: 34.8 seconds\n",
      "Epoch: 012/15000 | Loss: 0.0009 | Episodes: 84 | Win count: 4 | Win rate: 0.333 | time: 37.2 seconds\n",
      "Epoch: 013/15000 | Loss: 0.0003 | Episodes: 138 | Win count: 4 | Win rate: 0.308 | time: 41.1 seconds\n",
      "Epoch: 014/15000 | Loss: 0.0006 | Episodes: 137 | Win count: 4 | Win rate: 0.286 | time: 45.0 seconds\n",
      "Epoch: 015/15000 | Loss: 0.0008 | Episodes: 131 | Win count: 4 | Win rate: 0.267 | time: 48.7 seconds\n",
      "Epoch: 016/15000 | Loss: 0.0001 | Episodes: 4 | Win count: 5 | Win rate: 0.312 | time: 48.8 seconds\n",
      "Epoch: 017/15000 | Loss: 0.0003 | Episodes: 141 | Win count: 5 | Win rate: 0.294 | time: 52.8 seconds\n",
      "Epoch: 018/15000 | Loss: 0.0005 | Episodes: 144 | Win count: 5 | Win rate: 0.278 | time: 56.8 seconds\n",
      "Epoch: 019/15000 | Loss: 0.0010 | Episodes: 145 | Win count: 5 | Win rate: 0.263 | time: 61.0 seconds\n",
      "Epoch: 020/15000 | Loss: 0.0005 | Episodes: 137 | Win count: 5 | Win rate: 0.250 | time: 64.9 seconds\n",
      "Epoch: 021/15000 | Loss: 0.0013 | Episodes: 33 | Win count: 6 | Win rate: 0.286 | time: 65.8 seconds\n",
      "Epoch: 022/15000 | Loss: 0.0030 | Episodes: 74 | Win count: 7 | Win rate: 0.318 | time: 67.9 seconds\n",
      "Epoch: 023/15000 | Loss: 0.0002 | Episodes: 134 | Win count: 7 | Win rate: 0.304 | time: 71.7 seconds\n",
      "Epoch: 024/15000 | Loss: 0.0009 | Episodes: 135 | Win count: 7 | Win rate: 0.292 | time: 75.5 seconds\n",
      "Epoch: 025/15000 | Loss: 0.0007 | Episodes: 2 | Win count: 8 | Win rate: 0.320 | time: 75.6 seconds\n",
      "Epoch: 026/15000 | Loss: 0.0011 | Episodes: 144 | Win count: 8 | Win rate: 0.308 | time: 79.6 seconds\n",
      "Epoch: 027/15000 | Loss: 0.0006 | Episodes: 145 | Win count: 8 | Win rate: 0.296 | time: 83.7 seconds\n",
      "Epoch: 028/15000 | Loss: 0.0012 | Episodes: 138 | Win count: 8 | Win rate: 0.286 | time: 87.5 seconds\n",
      "Epoch: 029/15000 | Loss: 0.0010 | Episodes: 5 | Win count: 9 | Win rate: 0.310 | time: 87.7 seconds\n",
      "Epoch: 030/15000 | Loss: 0.0009 | Episodes: 7 | Win count: 10 | Win rate: 0.333 | time: 87.9 seconds\n",
      "Epoch: 031/15000 | Loss: 0.0004 | Episodes: 138 | Win count: 10 | Win rate: 0.323 | time: 91.7 seconds\n",
      "Epoch: 032/15000 | Loss: 0.0018 | Episodes: 90 | Win count: 11 | Win rate: 0.344 | time: 94.4 seconds\n",
      "Epoch: 033/15000 | Loss: 0.0000 | Episodes: 58 | Win count: 12 | Win rate: 0.364 | time: 96.1 seconds\n",
      "Epoch: 034/15000 | Loss: 0.0003 | Episodes: 110 | Win count: 13 | Win rate: 0.382 | time: 99.2 seconds\n",
      "Epoch: 035/15000 | Loss: 0.0005 | Episodes: 55 | Win count: 14 | Win rate: 0.400 | time: 100.8 seconds\n",
      "Epoch: 036/15000 | Loss: 0.0003 | Episodes: 1 | Win count: 15 | Win rate: 0.417 | time: 100.9 seconds\n",
      "Epoch: 037/15000 | Loss: 0.0014 | Episodes: 4 | Win count: 16 | Win rate: 0.432 | time: 101.0 seconds\n",
      "Epoch: 038/15000 | Loss: 0.0002 | Episodes: 5 | Win count: 17 | Win rate: 0.447 | time: 101.1 seconds\n",
      "Epoch: 039/15000 | Loss: 0.0007 | Episodes: 140 | Win count: 17 | Win rate: 0.436 | time: 105.1 seconds\n",
      "Epoch: 040/15000 | Loss: 0.0004 | Episodes: 9 | Win count: 18 | Win rate: 0.450 | time: 105.4 seconds\n",
      "Epoch: 041/15000 | Loss: 0.0022 | Episodes: 136 | Win count: 18 | Win rate: 0.439 | time: 109.2 seconds\n",
      "Epoch: 042/15000 | Loss: 0.0009 | Episodes: 15 | Win count: 19 | Win rate: 0.452 | time: 109.7 seconds\n",
      "Epoch: 043/15000 | Loss: 0.0009 | Episodes: 134 | Win count: 19 | Win rate: 0.442 | time: 113.6 seconds\n",
      "Epoch: 044/15000 | Loss: 0.0010 | Episodes: 142 | Win count: 19 | Win rate: 0.432 | time: 117.6 seconds\n",
      "Epoch: 045/15000 | Loss: 0.0004 | Episodes: 134 | Win count: 19 | Win rate: 0.422 | time: 121.4 seconds\n",
      "Epoch: 046/15000 | Loss: 0.0005 | Episodes: 9 | Win count: 20 | Win rate: 0.435 | time: 121.7 seconds\n",
      "Epoch: 047/15000 | Loss: 0.0008 | Episodes: 137 | Win count: 20 | Win rate: 0.426 | time: 125.6 seconds\n",
      "Epoch: 048/15000 | Loss: 0.0000 | Episodes: 138 | Win count: 20 | Win rate: 0.417 | time: 129.6 seconds\n",
      "Epoch: 049/15000 | Loss: 0.0016 | Episodes: 138 | Win count: 20 | Win rate: 0.408 | time: 133.6 seconds\n",
      "Epoch: 050/15000 | Loss: 0.0002 | Episodes: 1 | Win count: 21 | Win rate: 0.420 | time: 133.6 seconds\n",
      "Epoch: 051/15000 | Loss: 0.0005 | Episodes: 138 | Win count: 21 | Win rate: 0.412 | time: 137.5 seconds\n",
      "Epoch: 052/15000 | Loss: 0.0009 | Episodes: 141 | Win count: 21 | Win rate: 0.404 | time: 141.5 seconds\n",
      "Epoch: 053/15000 | Loss: 0.0010 | Episodes: 5 | Win count: 22 | Win rate: 0.415 | time: 141.7 seconds\n",
      "Epoch: 054/15000 | Loss: 0.0012 | Episodes: 139 | Win count: 22 | Win rate: 0.407 | time: 145.5 seconds\n",
      "Epoch: 055/15000 | Loss: 0.0019 | Episodes: 143 | Win count: 22 | Win rate: 0.400 | time: 149.6 seconds\n",
      "Epoch: 056/15000 | Loss: 0.0004 | Episodes: 13 | Win count: 23 | Win rate: 0.411 | time: 150.0 seconds\n",
      "Epoch: 057/15000 | Loss: 0.0008 | Episodes: 148 | Win count: 23 | Win rate: 0.404 | time: 154.3 seconds\n",
      "Epoch: 058/15000 | Loss: 0.0003 | Episodes: 141 | Win count: 23 | Win rate: 0.397 | time: 158.3 seconds\n",
      "Epoch: 059/15000 | Loss: 0.0010 | Episodes: 10 | Win count: 24 | Win rate: 0.407 | time: 158.6 seconds\n",
      "Epoch: 060/15000 | Loss: 0.0007 | Episodes: 1 | Win count: 25 | Win rate: 0.417 | time: 158.6 seconds\n",
      "Epoch: 061/15000 | Loss: 0.0008 | Episodes: 10 | Win count: 26 | Win rate: 0.426 | time: 158.9 seconds\n",
      "Epoch: 062/15000 | Loss: 0.0012 | Episodes: 136 | Win count: 26 | Win rate: 0.419 | time: 162.9 seconds\n",
      "Epoch: 063/15000 | Loss: 0.0004 | Episodes: 7 | Win count: 27 | Win rate: 0.429 | time: 163.1 seconds\n",
      "Epoch: 064/15000 | Loss: 0.0000 | Episodes: 139 | Win count: 27 | Win rate: 0.422 | time: 167.1 seconds\n",
      "Epoch: 065/15000 | Loss: 0.0010 | Episodes: 144 | Win count: 27 | Win rate: 0.415 | time: 171.2 seconds\n",
      "Epoch: 066/15000 | Loss: 0.0014 | Episodes: 3 | Win count: 28 | Win rate: 0.424 | time: 171.3 seconds\n",
      "Epoch: 067/15000 | Loss: 0.0002 | Episodes: 135 | Win count: 28 | Win rate: 0.418 | time: 175.2 seconds\n",
      "Epoch: 068/15000 | Loss: 0.0007 | Episodes: 144 | Win count: 28 | Win rate: 0.412 | time: 179.3 seconds\n",
      "Epoch: 069/15000 | Loss: 0.0002 | Episodes: 42 | Win count: 29 | Win rate: 0.420 | time: 180.5 seconds\n",
      "Epoch: 070/15000 | Loss: 0.0003 | Episodes: 142 | Win count: 29 | Win rate: 0.414 | time: 184.6 seconds\n",
      "Epoch: 071/15000 | Loss: 0.0001 | Episodes: 7 | Win count: 30 | Win rate: 0.423 | time: 184.8 seconds\n",
      "Epoch: 072/15000 | Loss: 0.0024 | Episodes: 149 | Win count: 30 | Win rate: 0.417 | time: 189.0 seconds\n",
      "Epoch: 073/15000 | Loss: 0.0011 | Episodes: 23 | Win count: 31 | Win rate: 0.425 | time: 189.8 seconds\n",
      "Epoch: 074/15000 | Loss: 0.0008 | Episodes: 15 | Win count: 32 | Win rate: 0.432 | time: 190.2 seconds\n",
      "Epoch: 075/15000 | Loss: 0.0007 | Episodes: 143 | Win count: 32 | Win rate: 0.427 | time: 194.4 seconds\n",
      "Epoch: 076/15000 | Loss: 0.0003 | Episodes: 145 | Win count: 32 | Win rate: 0.421 | time: 198.5 seconds\n",
      "Epoch: 077/15000 | Loss: 0.0013 | Episodes: 2 | Win count: 33 | Win rate: 0.429 | time: 198.6 seconds\n",
      "Epoch: 078/15000 | Loss: 0.0018 | Episodes: 9 | Win count: 34 | Win rate: 0.436 | time: 198.9 seconds\n",
      "Epoch: 079/15000 | Loss: 0.0007 | Episodes: 142 | Win count: 34 | Win rate: 0.430 | time: 202.9 seconds\n",
      "Epoch: 080/15000 | Loss: 0.0020 | Episodes: 4 | Win count: 35 | Win rate: 0.438 | time: 203.0 seconds\n",
      "Epoch: 081/15000 | Loss: 0.0015 | Episodes: 2 | Win count: 36 | Win rate: 0.444 | time: 203.1 seconds\n",
      "Epoch: 082/15000 | Loss: 0.0004 | Episodes: 124 | Win count: 37 | Win rate: 0.451 | time: 206.7 seconds\n",
      "Epoch: 083/15000 | Loss: 0.0010 | Episodes: 58 | Win count: 38 | Win rate: 0.458 | time: 208.4 seconds\n",
      "Epoch: 084/15000 | Loss: 0.0007 | Episodes: 5 | Win count: 39 | Win rate: 0.464 | time: 208.5 seconds\n",
      "Epoch: 085/15000 | Loss: 0.0010 | Episodes: 28 | Win count: 40 | Win rate: 0.471 | time: 209.4 seconds\n",
      "Epoch: 086/15000 | Loss: 0.0007 | Episodes: 1 | Win count: 41 | Win rate: 0.477 | time: 209.4 seconds\n",
      "Epoch: 087/15000 | Loss: 0.0009 | Episodes: 51 | Win count: 42 | Win rate: 0.483 | time: 210.9 seconds\n",
      "Epoch: 088/15000 | Loss: 0.0004 | Episodes: 2 | Win count: 43 | Win rate: 0.489 | time: 210.9 seconds\n",
      "Epoch: 089/15000 | Loss: 0.0007 | Episodes: 14 | Win count: 44 | Win rate: 0.494 | time: 211.3 seconds\n",
      "Epoch: 090/15000 | Loss: 0.0010 | Episodes: 18 | Win count: 45 | Win rate: 0.500 | time: 211.9 seconds\n",
      "Epoch: 091/15000 | Loss: 0.0002 | Episodes: 11 | Win count: 46 | Win rate: 0.505 | time: 212.2 seconds\n",
      "Epoch: 092/15000 | Loss: 0.0010 | Episodes: 139 | Win count: 46 | Win rate: 0.500 | time: 216.3 seconds\n",
      "Epoch: 093/15000 | Loss: 0.0006 | Episodes: 139 | Win count: 46 | Win rate: 0.495 | time: 220.3 seconds\n",
      "Epoch: 094/15000 | Loss: 0.0002 | Episodes: 30 | Win count: 47 | Win rate: 0.500 | time: 221.2 seconds\n",
      "Epoch: 095/15000 | Loss: 0.0001 | Episodes: 25 | Win count: 48 | Win rate: 0.505 | time: 221.9 seconds\n",
      "Epoch: 096/15000 | Loss: 0.0002 | Episodes: 132 | Win count: 48 | Win rate: 0.500 | time: 225.8 seconds\n",
      "Epoch: 097/15000 | Loss: 0.0016 | Episodes: 10 | Win count: 49 | Win rate: 0.505 | time: 226.1 seconds\n",
      "Epoch: 098/15000 | Loss: 0.0002 | Episodes: 143 | Win count: 49 | Win rate: 0.500 | time: 230.4 seconds\n",
      "Epoch: 099/15000 | Loss: 0.0022 | Episodes: 134 | Win count: 49 | Win rate: 0.495 | time: 234.5 seconds\n",
      "Epoch: 100/15000 | Loss: 0.0001 | Episodes: 18 | Win count: 50 | Win rate: 0.500 | time: 235.0 seconds\n",
      "Epoch: 101/15000 | Loss: 0.0016 | Episodes: 132 | Win count: 50 | Win rate: 0.495 | time: 238.9 seconds\n",
      "Epoch: 102/15000 | Loss: 0.0011 | Episodes: 1 | Win count: 51 | Win rate: 0.500 | time: 238.9 seconds\n",
      "Epoch: 103/15000 | Loss: 0.0006 | Episodes: 2 | Win count: 52 | Win rate: 0.505 | time: 239.0 seconds\n",
      "Epoch: 104/15000 | Loss: 0.0008 | Episodes: 9 | Win count: 53 | Win rate: 0.510 | time: 239.2 seconds\n",
      "Epoch: 105/15000 | Loss: 0.0001 | Episodes: 1 | Win count: 54 | Win rate: 0.514 | time: 239.2 seconds\n",
      "Epoch: 106/15000 | Loss: 0.0000 | Episodes: 133 | Win count: 54 | Win rate: 0.509 | time: 243.1 seconds\n",
      "Epoch: 107/15000 | Loss: 0.0005 | Episodes: 8 | Win count: 55 | Win rate: 0.514 | time: 243.3 seconds\n",
      "Epoch: 108/15000 | Loss: 0.0001 | Episodes: 15 | Win count: 56 | Win rate: 0.519 | time: 243.8 seconds\n",
      "Epoch: 109/15000 | Loss: 0.0006 | Episodes: 57 | Win count: 57 | Win rate: 0.523 | time: 245.4 seconds\n",
      "Epoch: 110/15000 | Loss: 0.0005 | Episodes: 18 | Win count: 58 | Win rate: 0.527 | time: 245.9 seconds\n",
      "Epoch: 111/15000 | Loss: 0.0008 | Episodes: 2 | Win count: 59 | Win rate: 0.532 | time: 246.0 seconds\n",
      "Epoch: 112/15000 | Loss: 0.0008 | Episodes: 115 | Win count: 60 | Win rate: 0.536 | time: 249.3 seconds\n",
      "Epoch: 113/15000 | Loss: 0.0002 | Episodes: 96 | Win count: 61 | Win rate: 0.540 | time: 252.0 seconds\n",
      "Epoch: 114/15000 | Loss: 0.0010 | Episodes: 49 | Win count: 62 | Win rate: 0.544 | time: 253.4 seconds\n",
      "Epoch: 115/15000 | Loss: 0.0007 | Episodes: 42 | Win count: 63 | Win rate: 0.548 | time: 254.6 seconds\n",
      "Epoch: 116/15000 | Loss: 0.0018 | Episodes: 1 | Win count: 64 | Win rate: 0.552 | time: 254.7 seconds\n",
      "Epoch: 117/15000 | Loss: 0.0014 | Episodes: 43 | Win count: 65 | Win rate: 0.556 | time: 256.0 seconds\n",
      "Epoch: 118/15000 | Loss: 0.0003 | Episodes: 16 | Win count: 66 | Win rate: 0.559 | time: 256.4 seconds\n",
      "Epoch: 119/15000 | Loss: 0.0008 | Episodes: 9 | Win count: 67 | Win rate: 0.563 | time: 256.7 seconds\n",
      "Epoch: 120/15000 | Loss: 0.0016 | Episodes: 20 | Win count: 68 | Win rate: 0.567 | time: 257.3 seconds\n",
      "Epoch: 121/15000 | Loss: 0.0016 | Episodes: 16 | Win count: 69 | Win rate: 0.570 | time: 257.8 seconds\n",
      "Epoch: 122/15000 | Loss: 0.0016 | Episodes: 1 | Win count: 70 | Win rate: 0.574 | time: 257.8 seconds\n",
      "Epoch: 123/15000 | Loss: 0.0009 | Episodes: 1 | Win count: 71 | Win rate: 0.577 | time: 257.8 seconds\n",
      "Epoch: 124/15000 | Loss: 0.0010 | Episodes: 65 | Win count: 72 | Win rate: 0.581 | time: 259.8 seconds\n",
      "Epoch: 125/15000 | Loss: 0.0018 | Episodes: 19 | Win count: 73 | Win rate: 0.584 | time: 260.3 seconds\n",
      "Epoch: 126/15000 | Loss: 0.0007 | Episodes: 1 | Win count: 74 | Win rate: 0.587 | time: 260.3 seconds\n",
      "Epoch: 127/15000 | Loss: 0.0005 | Episodes: 134 | Win count: 74 | Win rate: 0.583 | time: 264.1 seconds\n",
      "Epoch: 128/15000 | Loss: 0.0001 | Episodes: 16 | Win count: 75 | Win rate: 0.586 | time: 264.6 seconds\n",
      "Epoch: 129/15000 | Loss: 0.0002 | Episodes: 10 | Win count: 76 | Win rate: 0.589 | time: 264.9 seconds\n",
      "Epoch: 130/15000 | Loss: 0.0005 | Episodes: 95 | Win count: 77 | Win rate: 0.592 | time: 267.6 seconds\n",
      "Epoch: 131/15000 | Loss: 0.0003 | Episodes: 1 | Win count: 78 | Win rate: 0.595 | time: 267.7 seconds\n",
      "Epoch: 132/15000 | Loss: 0.0012 | Episodes: 7 | Win count: 79 | Win rate: 0.598 | time: 267.9 seconds\n",
      "Epoch: 133/15000 | Loss: 0.0007 | Episodes: 65 | Win count: 80 | Win rate: 0.602 | time: 269.7 seconds\n",
      "Epoch: 134/15000 | Loss: 0.0006 | Episodes: 8 | Win count: 81 | Win rate: 0.604 | time: 270.0 seconds\n",
      "Epoch: 135/15000 | Loss: 0.0011 | Episodes: 75 | Win count: 82 | Win rate: 0.607 | time: 272.1 seconds\n",
      "Epoch: 136/15000 | Loss: 0.0001 | Episodes: 4 | Win count: 83 | Win rate: 0.610 | time: 272.2 seconds\n",
      "Epoch: 137/15000 | Loss: 0.0011 | Episodes: 36 | Win count: 84 | Win rate: 0.613 | time: 273.3 seconds\n",
      "Epoch: 138/15000 | Loss: 0.0005 | Episodes: 15 | Win count: 85 | Win rate: 0.616 | time: 273.7 seconds\n",
      "Epoch: 139/15000 | Loss: 0.0004 | Episodes: 23 | Win count: 86 | Win rate: 0.619 | time: 274.4 seconds\n",
      "Epoch: 140/15000 | Loss: 0.0008 | Episodes: 155 | Win count: 87 | Win rate: 0.621 | time: 278.9 seconds\n",
      "Epoch: 141/15000 | Loss: 0.0010 | Episodes: 11 | Win count: 88 | Win rate: 0.624 | time: 279.3 seconds\n",
      "Epoch: 142/15000 | Loss: 0.0001 | Episodes: 31 | Win count: 89 | Win rate: 0.627 | time: 280.2 seconds\n",
      "Epoch: 143/15000 | Loss: 0.0015 | Episodes: 5 | Win count: 90 | Win rate: 0.629 | time: 280.3 seconds\n",
      "Epoch: 144/15000 | Loss: 0.0008 | Episodes: 17 | Win count: 91 | Win rate: 0.632 | time: 280.8 seconds\n",
      "Epoch: 145/15000 | Loss: 0.0015 | Episodes: 29 | Win count: 92 | Win rate: 0.634 | time: 281.6 seconds\n",
      "Epoch: 146/15000 | Loss: 0.0013 | Episodes: 5 | Win count: 93 | Win rate: 0.637 | time: 281.8 seconds\n",
      "Epoch: 147/15000 | Loss: 0.0016 | Episodes: 39 | Win count: 94 | Win rate: 0.639 | time: 282.9 seconds\n",
      "Epoch: 148/15000 | Loss: 0.0010 | Episodes: 5 | Win count: 95 | Win rate: 0.642 | time: 283.1 seconds\n",
      "Epoch: 149/15000 | Loss: 0.0004 | Episodes: 50 | Win count: 96 | Win rate: 0.644 | time: 284.5 seconds\n",
      "Epoch: 150/15000 | Loss: 0.0006 | Episodes: 24 | Win count: 97 | Win rate: 0.647 | time: 285.2 seconds\n",
      "Epoch: 151/15000 | Loss: 0.0003 | Episodes: 81 | Win count: 98 | Win rate: 0.649 | time: 287.5 seconds\n",
      "Epoch: 152/15000 | Loss: 0.0011 | Episodes: 11 | Win count: 99 | Win rate: 0.651 | time: 287.8 seconds\n",
      "Epoch: 153/15000 | Loss: 0.0005 | Episodes: 22 | Win count: 100 | Win rate: 0.654 | time: 288.5 seconds\n",
      "Epoch: 154/15000 | Loss: 0.0015 | Episodes: 20 | Win count: 101 | Win rate: 0.656 | time: 289.1 seconds\n",
      "Epoch: 155/15000 | Loss: 0.0001 | Episodes: 22 | Win count: 102 | Win rate: 0.658 | time: 289.7 seconds\n",
      "Epoch: 156/15000 | Loss: 0.0002 | Episodes: 11 | Win count: 103 | Win rate: 0.660 | time: 290.0 seconds\n",
      "Epoch: 157/15000 | Loss: 0.0014 | Episodes: 30 | Win count: 104 | Win rate: 0.662 | time: 290.9 seconds\n",
      "Epoch: 158/15000 | Loss: 0.0005 | Episodes: 21 | Win count: 105 | Win rate: 0.665 | time: 291.5 seconds\n",
      "Epoch: 159/15000 | Loss: 0.0004 | Episodes: 25 | Win count: 106 | Win rate: 0.667 | time: 292.2 seconds\n",
      "Epoch: 160/15000 | Loss: 0.0002 | Episodes: 33 | Win count: 107 | Win rate: 0.669 | time: 293.3 seconds\n",
      "Epoch: 161/15000 | Loss: 0.0005 | Episodes: 39 | Win count: 108 | Win rate: 0.671 | time: 295.0 seconds\n",
      "Epoch: 162/15000 | Loss: 0.0004 | Episodes: 7 | Win count: 109 | Win rate: 0.673 | time: 295.3 seconds\n",
      "Epoch: 163/15000 | Loss: 0.0001 | Episodes: 42 | Win count: 110 | Win rate: 0.675 | time: 296.7 seconds\n",
      "Epoch: 164/15000 | Loss: 0.0003 | Episodes: 37 | Win count: 111 | Win rate: 0.677 | time: 297.8 seconds\n",
      "Epoch: 165/15000 | Loss: 0.0002 | Episodes: 21 | Win count: 112 | Win rate: 0.679 | time: 298.5 seconds\n",
      "Epoch: 166/15000 | Loss: 0.0003 | Episodes: 9 | Win count: 113 | Win rate: 0.681 | time: 298.9 seconds\n",
      "Epoch: 167/15000 | Loss: 0.0004 | Episodes: 76 | Win count: 114 | Win rate: 0.683 | time: 301.1 seconds\n",
      "Epoch: 168/15000 | Loss: 0.0003 | Episodes: 18 | Win count: 115 | Win rate: 0.685 | time: 301.7 seconds\n",
      "Epoch: 169/15000 | Loss: 0.0005 | Episodes: 19 | Win count: 116 | Win rate: 0.686 | time: 302.3 seconds\n",
      "Epoch: 170/15000 | Loss: 0.0009 | Episodes: 34 | Win count: 117 | Win rate: 0.688 | time: 303.4 seconds\n",
      "Epoch: 171/15000 | Loss: 0.0001 | Episodes: 19 | Win count: 118 | Win rate: 0.690 | time: 304.2 seconds\n",
      "Epoch: 172/15000 | Loss: 0.0012 | Episodes: 28 | Win count: 119 | Win rate: 0.692 | time: 305.3 seconds\n",
      "Epoch: 173/15000 | Loss: 0.0008 | Episodes: 32 | Win count: 120 | Win rate: 0.694 | time: 306.3 seconds\n",
      "Epoch: 174/15000 | Loss: 0.0006 | Episodes: 28 | Win count: 121 | Win rate: 0.695 | time: 307.2 seconds\n",
      "Epoch: 175/15000 | Loss: 0.0002 | Episodes: 12 | Win count: 122 | Win rate: 0.697 | time: 307.6 seconds\n",
      "Epoch: 176/15000 | Loss: 0.0002 | Episodes: 23 | Win count: 123 | Win rate: 0.699 | time: 308.3 seconds\n",
      "Epoch: 177/15000 | Loss: 0.0002 | Episodes: 31 | Win count: 124 | Win rate: 0.701 | time: 309.3 seconds\n",
      "Reached 100% win rate at epoch: 176\n",
      "n_epoch: 176, max_mem: 512, data: 32, time: 309.8 seconds\n"
     ]
    },
    {
     "data": {
      "text/plain": [
       "309.845031"
      ]
     },
     "execution_count": 11,
     "metadata": {},
     "output_type": "execute_result"
    }
   ],
   "source": [
    "model = build_model(maze)\n",
    "qtrain(model, maze, epochs=1000, max_memory=8*maze.size, data_size=32)"
   ]
  },
  {
   "cell_type": "markdown",
   "metadata": {},
   "source": [
    "This cell will check to see if the model passes the completion check. Note: This could take several minutes."
   ]
  },
  {
   "cell_type": "code",
   "execution_count": 12,
   "metadata": {},
   "outputs": [
    {
     "data": {
      "text/plain": [
       "<matplotlib.image.AxesImage at 0x1d2f812e688>"
      ]
     },
     "execution_count": 12,
     "metadata": {},
     "output_type": "execute_result"
    },
    {
     "data": {
      "image/png": "[encoded data removed]",
      "text/plain": [
       "<Figure size 432x288 with 1 Axes>"
      ]
     },
     "metadata": {
      "needs_background": "light"
     },
     "output_type": "display_data"
    }
   ],
   "source": [
    "completion_check(model, qmaze)\n",
    "show(qmaze)"
   ]
  },
  {
   "cell_type": "markdown",
   "metadata": {},
   "source": [
    "This cell will test your model for one game. It will start the pirate at the top-left corner and run play_game. The agent should find a path from the starting position to the target (treasure). The treasure is located in the bottom-right corner."
   ]
  },
  {
   "cell_type": "code",
   "execution_count": 13,
   "metadata": {},
   "outputs": [
    {
     "data": {
      "text/plain": [
       "<matplotlib.image.AxesImage at 0x1d2fc4cc288>"
      ]
     },
     "execution_count": 13,
     "metadata": {},
     "output_type": "execute_result"
    },
    {
     "data": {
      "image/png": "[encoded data removed]",
      "text/plain": [
       "<Figure size 432x288 with 1 Axes>"
      ]
     },
     "metadata": {
      "needs_background": "light"
     },
     "output_type": "display_data"
    }
   ],
   "source": [
    "pirate_start = (0,0)\n",
    "play_game(model, qmaze, pirate_start)\n",
    "show(qmaze)"
   ]
  },
  {
   "cell_type": "markdown",
   "metadata": {},
   "source": [
    "## Save and Submit Your Work\n",
    "After you have finished creating the code for your notebook, save your work. Make sure that your notebook contains your name in the filename (e.g. Doe_Jane_ProjectTwo.ipynb). This will help your instructor access and grade your work easily. Download a copy of your IPYNB file and submit it to Brightspace. Refer to the Jupyter Notebook in Apporto Tutorial if you need help with these tasks."
   ]
  }
 ],
 "metadata": {
  "kernelspec": {
   "display_name": "Python 3",
   "language": "python",
   "name": "python3"
  },
  "language_info": {
   "codemirror_mode": {
    "name": "ipython",
    "version": 3
   },
   "file_extension": ".py",
   "mimetype": "text/x-python",
   "name": "python",
   "nbconvert_exporter": "python",
   "pygments_lexer": "ipython3",
   "version": "3.7.4"
  },
  "vscode": {
   "interpreter": {
    "hash": "7718cb9713a2a5fdcc7831ca4d2ff14fb5abba6099f6c1f058ccd882c020a0bc"
   }
  }
 },
 "nbformat": 4,
 "nbformat_minor": 2
}
